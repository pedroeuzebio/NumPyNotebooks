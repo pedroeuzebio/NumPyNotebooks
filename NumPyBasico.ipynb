{
  "nbformat": 4,
  "nbformat_minor": 0,
  "metadata": {
    "colab": {
      "name": "NumPyBasico.ipynb",
      "provenance": [],
      "collapsed_sections": [],
      "include_colab_link": true
    },
    "kernelspec": {
      "name": "python3",
      "display_name": "Python 3"
    }
  },
  "cells": [
    {
      "cell_type": "markdown",
      "metadata": {
        "id": "view-in-github",
        "colab_type": "text"
      },
      "source": [
        "<a href=\"https://colab.research.google.com/github/pedroop23/NumPyNotebooks/blob/master/NumPyBasico.ipynb\" target=\"_parent\"><img src=\"https://colab.research.google.com/assets/colab-badge.svg\" alt=\"Open In Colab\"/></a>"
      ]
    },
    {
      "cell_type": "code",
      "metadata": {
        "id": "VsU6vqTNKh-b",
        "colab_type": "code",
        "colab": {}
      },
      "source": [
        "import numpy as np\n",
        "\n"
      ],
      "execution_count": 0,
      "outputs": []
    },
    {
      "cell_type": "markdown",
      "metadata": {
        "id": "nVQCZXh5n8xl",
        "colab_type": "text"
      },
      "source": [
        "# **Criando array**"
      ]
    },
    {
      "cell_type": "code",
      "metadata": {
        "id": "ZRz8goCNKsip",
        "colab_type": "code",
        "cellView": "both",
        "outputId": "a2087e7e-24c8-4e38-acb3-9d2d1bec6cf7",
        "colab": {
          "base_uri": "https://localhost:8080/",
          "height": 34
        }
      },
      "source": [
        "\n",
        "\n",
        "a = np.array([10,20,30,40])\n",
        "a\n"
      ],
      "execution_count": 0,
      "outputs": [
        {
          "output_type": "execute_result",
          "data": {
            "text/plain": [
              "array([10, 20, 30, 40])"
            ]
          },
          "metadata": {
            "tags": []
          },
          "execution_count": 34
        }
      ]
    },
    {
      "cell_type": "code",
      "metadata": {
        "id": "eXLOn9r5LBHB",
        "colab_type": "code",
        "outputId": "702aa38c-b791-4a39-bbd8-8a4fa0584907",
        "colab": {
          "base_uri": "https://localhost:8080/",
          "height": 34
        }
      },
      "source": [
        "type(a)"
      ],
      "execution_count": 0,
      "outputs": [
        {
          "output_type": "execute_result",
          "data": {
            "text/plain": [
              "numpy.ndarray"
            ]
          },
          "metadata": {
            "tags": []
          },
          "execution_count": 35
        }
      ]
    },
    {
      "cell_type": "markdown",
      "metadata": {
        "id": "1sJKmBLqnkqU",
        "colab_type": "text"
      },
      "source": [
        "\n",
        "# **Criando Matriz**"
      ]
    },
    {
      "cell_type": "code",
      "metadata": {
        "id": "9u-pQwu9Ntn4",
        "colab_type": "code",
        "outputId": "26c1b381-2202-43d7-d518-af848d76416c",
        "colab": {
          "base_uri": "https://localhost:8080/",
          "height": 68
        }
      },
      "source": [
        "\n",
        "mat = np.array([[1,2,3], [4,5,6], [7,8,9]])\n",
        "mat"
      ],
      "execution_count": 0,
      "outputs": [
        {
          "output_type": "execute_result",
          "data": {
            "text/plain": [
              "array([[1, 2, 3],\n",
              "       [4, 5, 6],\n",
              "       [7, 8, 9]])"
            ]
          },
          "metadata": {
            "tags": []
          },
          "execution_count": 79
        }
      ]
    },
    {
      "cell_type": "markdown",
      "metadata": {
        "id": "n_aCo0lLneGs",
        "colab_type": "text"
      },
      "source": [
        "#**Indexação**"
      ]
    },
    {
      "cell_type": "code",
      "metadata": {
        "id": "Rta7_B-XN5xP",
        "colab_type": "code",
        "outputId": "e66aa8d0-14ff-466e-9d46-9b2c67219345",
        "colab": {
          "base_uri": "https://localhost:8080/",
          "height": 34
        }
      },
      "source": [
        "\n",
        "print(mat[2][2])\n"
      ],
      "execution_count": 0,
      "outputs": [
        {
          "output_type": "stream",
          "text": [
            "9\n"
          ],
          "name": "stdout"
        }
      ]
    },
    {
      "cell_type": "markdown",
      "metadata": {
        "id": "kFKccJ0WnSOL",
        "colab_type": "text"
      },
      "source": [
        "#**pegando linha e depois coluna inteira**"
      ]
    },
    {
      "cell_type": "code",
      "metadata": {
        "id": "2kX9NPvROCdI",
        "colab_type": "code",
        "outputId": "bcd6f63f-1ed2-4679-ac79-d67c360d41b0",
        "colab": {
          "base_uri": "https://localhost:8080/",
          "height": 51
        }
      },
      "source": [
        "\n",
        "print(mat[0,:])\n",
        "print(mat[:,2])"
      ],
      "execution_count": 0,
      "outputs": [
        {
          "output_type": "stream",
          "text": [
            "[1 2 3]\n",
            "[3 6 9]\n"
          ],
          "name": "stdout"
        }
      ]
    },
    {
      "cell_type": "markdown",
      "metadata": {
        "id": "XWBLQ4f_nLR7",
        "colab_type": "text"
      },
      "source": [
        "#**Transposta**"
      ]
    },
    {
      "cell_type": "code",
      "metadata": {
        "id": "Tx8dgiuzONAA",
        "colab_type": "code",
        "outputId": "b9d0561d-4fc7-4eed-dc14-4a71c15c926b",
        "colab": {
          "base_uri": "https://localhost:8080/",
          "height": 68
        }
      },
      "source": [
        "\n",
        "mat.transpose()"
      ],
      "execution_count": 0,
      "outputs": [
        {
          "output_type": "execute_result",
          "data": {
            "text/plain": [
              "array([[1, 4, 7],\n",
              "       [2, 5, 8],\n",
              "       [3, 6, 9]])"
            ]
          },
          "metadata": {
            "tags": []
          },
          "execution_count": 39
        }
      ]
    },
    {
      "cell_type": "markdown",
      "metadata": {
        "id": "gbAGgYOFnFg9",
        "colab_type": "text"
      },
      "source": [
        "#**operações basicas com matrizes**"
      ]
    },
    {
      "cell_type": "code",
      "metadata": {
        "id": "955mywnbOqly",
        "colab_type": "code",
        "outputId": "83e78a8a-815c-455b-8269-8b97c5476e0a",
        "colab": {
          "base_uri": "https://localhost:8080/",
          "height": 272
        }
      },
      "source": [
        "\n",
        "m1= np.array([[1,2], [3,4]])\n",
        "m2 = np.array([[5,6],[7,8]])\n",
        "print(\"Soma:\\n \",m1+m2)\n",
        "print(\"subtração\\n\" ,m1-m2)\n",
        "print(\"multiplicação:\\n\",m1*m2)\n",
        "print(\"subtração de todos os elementos por uma cte\",m1-1)\n",
        "print(\"elevando todos os elementos ao quadrado\", m1**2)\n",
        "print(\" soma elementos eixo =0\", m1.sum(axis=0)) # soma elementos na vertical pra cada coluna\n",
        "print(\"soma elementos eixo =1\", m1.sum(axis=1)) # soma na horizontal pra cada linha"
      ],
      "execution_count": 0,
      "outputs": [
        {
          "output_type": "stream",
          "text": [
            "Soma:\n",
            "  [[ 6  8]\n",
            " [10 12]]\n",
            "subtração\n",
            " [[-4 -4]\n",
            " [-4 -4]]\n",
            "multiplicação:\n",
            " [[ 5 12]\n",
            " [21 32]]\n",
            "subtração de todos os elementos por uma cte [[0 1]\n",
            " [2 3]]\n",
            "elevando todos os elementos ao quadrado [[ 1  4]\n",
            " [ 9 16]]\n",
            " soma elementos eixo =0 [4 6]\n",
            "soma elementos eixo =1 [3 7]\n"
          ],
          "name": "stdout"
        }
      ]
    },
    {
      "cell_type": "markdown",
      "metadata": {
        "id": "vp-E1pxDm6Cy",
        "colab_type": "text"
      },
      "source": [
        "#**Deletando Elementos Matriz**\n"
      ]
    },
    {
      "cell_type": "code",
      "metadata": {
        "id": "Y7NmsKQSjr5S",
        "colab_type": "code",
        "outputId": "9a57d0e5-c418-40ce-fc82-4130359fff64",
        "colab": {
          "base_uri": "https://localhost:8080/",
          "height": 119
        }
      },
      "source": [
        "a=np.array([[1,2], [3,4],[5,6]])\n",
        "print(a)\n",
        "np.delete(a,1,0) # o terceiro argumento é relativo ao eixo, nesse caso ele apagou a sublista de posição 1 em a\n",
        "print(np.delete(a,0,1))\n"
      ],
      "execution_count": 0,
      "outputs": [
        {
          "output_type": "stream",
          "text": [
            "[[1 2]\n",
            " [3 4]\n",
            " [5 6]]\n",
            "[[2]\n",
            " [4]\n",
            " [6]]\n"
          ],
          "name": "stdout"
        }
      ]
    },
    {
      "cell_type": "code",
      "metadata": {
        "id": "b_ijE8falvlw",
        "colab_type": "code",
        "outputId": "534c5c82-afe9-4f2d-b2be-2d078a998a80",
        "colab": {
          "base_uri": "https://localhost:8080/",
          "height": 119
        }
      },
      "source": [
        "b= np.array([[1,2,3],[4,5,6],[7,8,9],[10,11,12]])\n",
        "print(b)\n",
        "np.delete(b,np.s_[::2],0) # excluindo de 2 em 2 a partir do eixo 0"
      ],
      "execution_count": 0,
      "outputs": [
        {
          "output_type": "stream",
          "text": [
            "[[ 1  2  3]\n",
            " [ 4  5  6]\n",
            " [ 7  8  9]\n",
            " [10 11 12]]\n"
          ],
          "name": "stdout"
        },
        {
          "output_type": "execute_result",
          "data": {
            "text/plain": [
              "array([[ 4,  5,  6],\n",
              "       [10, 11, 12]])"
            ]
          },
          "metadata": {
            "tags": []
          },
          "execution_count": 42
        }
      ]
    },
    {
      "cell_type": "markdown",
      "metadata": {
        "id": "s4blSBbKmwJt",
        "colab_type": "text"
      },
      "source": [
        "#**Soma dos elementos do array**"
      ]
    },
    {
      "cell_type": "code",
      "metadata": {
        "id": "SrcPAtMyQKRM",
        "colab_type": "code",
        "outputId": "daebe816-98b6-4522-b048-c0af532a980d",
        "colab": {
          "base_uri": "https://localhost:8080/",
          "height": 34
        }
      },
      "source": [
        "\n",
        "m3= np.array([1,2,3,4])\n",
        "m3.sum()"
      ],
      "execution_count": 0,
      "outputs": [
        {
          "output_type": "execute_result",
          "data": {
            "text/plain": [
              "10"
            ]
          },
          "metadata": {
            "tags": []
          },
          "execution_count": 43
        }
      ]
    },
    {
      "cell_type": "markdown",
      "metadata": {
        "id": "eed5LsVDf2Dn",
        "colab_type": "text"
      },
      "source": [
        "#**Inserção em um Array**"
      ]
    },
    {
      "cell_type": "code",
      "metadata": {
        "id": "Xu4O7ma4fcdE",
        "colab_type": "code",
        "outputId": "af604cae-b310-4957-b8e6-cdae12b2ce5f",
        "colab": {
          "base_uri": "https://localhost:8080/",
          "height": 34
        }
      },
      "source": [
        "np.insert(m3,1,10) #inserindo no inicio do Arrray"
      ],
      "execution_count": 0,
      "outputs": [
        {
          "output_type": "execute_result",
          "data": {
            "text/plain": [
              "array([ 1, 10,  2,  3,  4])"
            ]
          },
          "metadata": {
            "tags": []
          },
          "execution_count": 44
        }
      ]
    },
    {
      "cell_type": "code",
      "metadata": {
        "id": "o08rFCANhmHN",
        "colab_type": "code",
        "outputId": "d67abbc3-e676-4e02-978f-4530fa34ed70",
        "colab": {
          "base_uri": "https://localhost:8080/",
          "height": 34
        }
      },
      "source": [
        "np.append(m3,[50,60]) #inserindo non fim do array"
      ],
      "execution_count": 0,
      "outputs": [
        {
          "output_type": "execute_result",
          "data": {
            "text/plain": [
              "array([ 1,  2,  3,  4, 50, 60])"
            ]
          },
          "metadata": {
            "tags": []
          },
          "execution_count": 45
        }
      ]
    },
    {
      "cell_type": "code",
      "metadata": {
        "id": "QxIESzYsiqpb",
        "colab_type": "code",
        "outputId": "388b30ab-b469-4ce5-8f3e-66ff05503f09",
        "colab": {
          "base_uri": "https://localhost:8080/",
          "height": 51
        }
      },
      "source": [
        "print(m3)\n",
        "np.delete(m3,3) # deleta o elemento da posição especificada"
      ],
      "execution_count": 0,
      "outputs": [
        {
          "output_type": "stream",
          "text": [
            "[1 2 3 4]\n"
          ],
          "name": "stdout"
        },
        {
          "output_type": "execute_result",
          "data": {
            "text/plain": [
              "array([1, 2, 3])"
            ]
          },
          "metadata": {
            "tags": []
          },
          "execution_count": 46
        }
      ]
    },
    {
      "cell_type": "markdown",
      "metadata": {
        "id": "EgDsmJ1om6tT",
        "colab_type": "text"
      },
      "source": [
        "\n",
        "#**Valor minimo e maximo do array**"
      ]
    },
    {
      "cell_type": "code",
      "metadata": {
        "id": "oNKR7MRiQUHK",
        "colab_type": "code",
        "outputId": "b22da940-5476-4928-d673-7496ae764f86",
        "colab": {
          "base_uri": "https://localhost:8080/",
          "height": 51
        }
      },
      "source": [
        "\n",
        "print(m3.argmax())\n",
        "print(m3.argmin())"
      ],
      "execution_count": 0,
      "outputs": [
        {
          "output_type": "stream",
          "text": [
            "3\n",
            "0\n"
          ],
          "name": "stdout"
        }
      ]
    },
    {
      "cell_type": "code",
      "metadata": {
        "id": "p3_tXIGrtLrw",
        "colab_type": "code",
        "outputId": "39e05a5f-cb6b-4fc1-ccda-81ed65bb4f22",
        "colab": {
          "base_uri": "https://localhost:8080/",
          "height": 34
        }
      },
      "source": [
        "np.arange(1,10000001).sum(\n",
        "    \n",
        ")"
      ],
      "execution_count": 0,
      "outputs": [
        {
          "output_type": "execute_result",
          "data": {
            "text/plain": [
              "50000005000000"
            ]
          },
          "metadata": {
            "tags": []
          },
          "execution_count": 48
        }
      ]
    },
    {
      "cell_type": "markdown",
      "metadata": {
        "id": "DKDy9l9eoCvx",
        "colab_type": "text"
      },
      "source": [
        "#**Repetindo Elementos**"
      ]
    },
    {
      "cell_type": "code",
      "metadata": {
        "id": "jVq2qzXvnJ2b",
        "colab_type": "code",
        "outputId": "c63b1ff5-fc4f-4834-c537-ed13fed75fea",
        "colab": {
          "base_uri": "https://localhost:8080/",
          "height": 102
        }
      },
      "source": [
        "aa= np.array([[1,2], [3,4]])\n",
        "print(np.repeat(aa,2)) # 2 é o numero de repetições para cada elemento\n",
        "print(np.repeat(aa,2,0)) # 0 corresponde ao eixo "
      ],
      "execution_count": 0,
      "outputs": [
        {
          "output_type": "stream",
          "text": [
            "[1 1 2 2 3 3 4 4]\n",
            "[[1 2]\n",
            " [1 2]\n",
            " [3 4]\n",
            " [3 4]]\n"
          ],
          "name": "stdout"
        }
      ]
    },
    {
      "cell_type": "markdown",
      "metadata": {
        "id": "lABocPxk7JW1",
        "colab_type": "text"
      },
      "source": [
        "#**Repetindo Array ao longo de um texto**\n"
      ]
    },
    {
      "cell_type": "code",
      "metadata": {
        "id": "plVJvubY7GOJ",
        "colab_type": "code",
        "outputId": "56bf97fb-dd9f-449b-eef8-d2f95e8ed549",
        "colab": {
          "base_uri": "https://localhost:8080/",
          "height": 34
        }
      },
      "source": [
        "r=np.array([1,2,3])\n",
        "np.tile(r,3) # segundo argumento é o numero de vezes que vai repetir"
      ],
      "execution_count": 0,
      "outputs": [
        {
          "output_type": "execute_result",
          "data": {
            "text/plain": [
              "array([1, 2, 3, 1, 2, 3, 1, 2, 3])"
            ]
          },
          "metadata": {
            "tags": []
          },
          "execution_count": 80
        }
      ]
    },
    {
      "cell_type": "markdown",
      "metadata": {
        "id": "zGixKzjKmMa8",
        "colab_type": "text"
      },
      "source": [
        "#**Slicing list** "
      ]
    },
    {
      "cell_type": "code",
      "metadata": {
        "id": "TnDi9kvythKX",
        "colab_type": "code",
        "cellView": "code",
        "outputId": "115e797e-c404-47f6-f938-14e9f90be28a",
        "colab": {
          "base_uri": "https://localhost:8080/",
          "height": 51
        }
      },
      "source": [
        "\n",
        "lista = [20,30,10,40,50]\n",
        "print(lista[1:3]) #limite superior aberto (não pega o 3, apenas 1 e 2) \n",
        "print(lista[::2]) #não especificou o começo nem o fim -> começa do 0 e pula  duas posições(::2) "
      ],
      "execution_count": 0,
      "outputs": [
        {
          "output_type": "stream",
          "text": [
            "[30, 10]\n",
            "[20, 10, 50]\n"
          ],
          "name": "stdout"
        }
      ]
    },
    {
      "cell_type": "markdown",
      "metadata": {
        "id": "tgoiVVWMl1wL",
        "colab_type": "text"
      },
      "source": [
        "#**Slicing Arrays** "
      ]
    },
    {
      "cell_type": "code",
      "metadata": {
        "id": "hapOECiOhxSa",
        "colab_type": "code",
        "outputId": "7278e036-6b4a-454a-98f0-08e208751599",
        "colab": {
          "base_uri": "https://localhost:8080/",
          "height": 51
        }
      },
      "source": [
        "\n",
        "a= np.array(lista)\n",
        "print(a[1:3])\n",
        "print(a[::2])"
      ],
      "execution_count": 0,
      "outputs": [
        {
          "output_type": "stream",
          "text": [
            "[30 10]\n",
            "[20 10 50]\n"
          ],
          "name": "stdout"
        }
      ]
    },
    {
      "cell_type": "markdown",
      "metadata": {
        "id": "dF2KMLa477QG",
        "colab_type": "text"
      },
      "source": [
        "#**Dividindo um Array**\n"
      ]
    },
    {
      "cell_type": "code",
      "metadata": {
        "id": "MLTChB6s75gD",
        "colab_type": "code",
        "outputId": "dc18f847-e5da-4437-d265-0548068ef17d",
        "colab": {
          "base_uri": "https://localhost:8080/",
          "height": 34
        }
      },
      "source": [
        "r= np.array([[1,2,3],[4,5,6]])\n",
        "print(np.split(r,2,axis=0)) # 0 corta por uma linha horizontal\n"
      ],
      "execution_count": 0,
      "outputs": [
        {
          "output_type": "stream",
          "text": [
            "[array([[1, 2, 3]]), array([[4, 5, 6]])]\n"
          ],
          "name": "stdout"
        }
      ]
    },
    {
      "cell_type": "markdown",
      "metadata": {
        "id": "OVJSLI0W9FmV",
        "colab_type": "text"
      },
      "source": [
        "#**Armazenando um Array Dividido**\n"
      ]
    },
    {
      "cell_type": "code",
      "metadata": {
        "id": "Gq18hV_k9DNn",
        "colab_type": "code",
        "outputId": "515338e1-a6d4-4947-b99b-09c197182d28",
        "colab": {
          "base_uri": "https://localhost:8080/",
          "height": 85
        }
      },
      "source": [
        "b= np.array([[1,2,3],[4,5,6],[7,8,9],[10,11,12]])\n",
        "arrays = np.split(b,2,axis=0)\n",
        "for array in arrays:\n",
        "  print(array)"
      ],
      "execution_count": 0,
      "outputs": [
        {
          "output_type": "stream",
          "text": [
            "[[1 2 3]\n",
            " [4 5 6]]\n",
            "[[ 7  8  9]\n",
            " [10 11 12]]\n"
          ],
          "name": "stdout"
        }
      ]
    },
    {
      "cell_type": "markdown",
      "metadata": {
        "id": "0iUuteWL_Q8i",
        "colab_type": "text"
      },
      "source": [
        "#**Criando Arrays de zeros e uns**\n"
      ]
    },
    {
      "cell_type": "code",
      "metadata": {
        "id": "J6ypB-mG-ClN",
        "colab_type": "code",
        "outputId": "3ebc3764-c93e-4a7d-90f3-bd9c1a9ba3fb",
        "colab": {
          "base_uri": "https://localhost:8080/",
          "height": 187
        }
      },
      "source": [
        "print(np.zeros((5,5)))\n",
        "print(np.ones((5,5)))"
      ],
      "execution_count": 0,
      "outputs": [
        {
          "output_type": "stream",
          "text": [
            "[[0. 0. 0. 0. 0.]\n",
            " [0. 0. 0. 0. 0.]\n",
            " [0. 0. 0. 0. 0.]\n",
            " [0. 0. 0. 0. 0.]\n",
            " [0. 0. 0. 0. 0.]]\n",
            "[[1. 1. 1. 1. 1.]\n",
            " [1. 1. 1. 1. 1.]\n",
            " [1. 1. 1. 1. 1.]\n",
            " [1. 1. 1. 1. 1.]\n",
            " [1. 1. 1. 1. 1.]]\n"
          ],
          "name": "stdout"
        }
      ]
    },
    {
      "cell_type": "markdown",
      "metadata": {
        "id": "fie2JSHP_7_4",
        "colab_type": "text"
      },
      "source": [
        "#**Cirando Matriz Identidade**"
      ]
    },
    {
      "cell_type": "code",
      "metadata": {
        "id": "LSsdCQbW_6pP",
        "colab_type": "code",
        "colab": {}
      },
      "source": [
        "d = np.eye(4)\n"
      ],
      "execution_count": 0,
      "outputs": []
    },
    {
      "cell_type": "markdown",
      "metadata": {
        "id": "anclNyv0AMRo",
        "colab_type": "text"
      },
      "source": [
        "#**Indexação Booleana**\n"
      ]
    },
    {
      "cell_type": "code",
      "metadata": {
        "id": "6hhd6vRlALFH",
        "colab_type": "code",
        "outputId": "d3d361b5-c0ed-4899-de5a-96cfa6b4273a",
        "colab": {
          "base_uri": "https://localhost:8080/",
          "height": 51
        }
      },
      "source": [
        "t = np.array([[1,2],[3,4],[5,6]])\n",
        "print(t[t>3])\n",
        "print(t[t>1])"
      ],
      "execution_count": 0,
      "outputs": [
        {
          "output_type": "stream",
          "text": [
            "[4 5 6]\n",
            "[2 3 4 5 6]\n"
          ],
          "name": "stdout"
        }
      ]
    },
    {
      "cell_type": "markdown",
      "metadata": {
        "id": "VONJhFZHmlok",
        "colab_type": "text"
      },
      "source": [
        "#**Diferença lista e array np**\n"
      ]
    },
    {
      "cell_type": "code",
      "metadata": {
        "id": "A8fQaxSRkepn",
        "colab_type": "code",
        "outputId": "5e8e514f-5922-42ef-d5ea-3e097b71e651",
        "colab": {
          "base_uri": "https://localhost:8080/",
          "height": 85
        }
      },
      "source": [
        "l2 = lista[:]\n",
        "print ('l2:',l2) \n",
        "print('l:', lista)\n",
        "l2[0] =1000\n",
        "print ('l2 depois:',l2) # é feita uma copia,alterar l2 não interfere em lista\n",
        "print('l depois:', lista)"
      ],
      "execution_count": 0,
      "outputs": [
        {
          "output_type": "stream",
          "text": [
            "l2: [20, 30, 10, 40, 50]\n",
            "l: [20, 30, 10, 40, 50]\n",
            "l2 depois: [1000, 30, 10, 40, 50]\n",
            "l depois: [20, 30, 10, 40, 50]\n"
          ],
          "name": "stdout"
        }
      ]
    },
    {
      "cell_type": "code",
      "metadata": {
        "id": "K5UHSKwlhEYc",
        "colab_type": "code",
        "outputId": "78be0ae1-5362-4789-9731-4b61d9be8a8d",
        "colab": {
          "base_uri": "https://localhost:8080/",
          "height": 85
        }
      },
      "source": [
        "b = a[:]\n",
        "print('antes a:', a )\n",
        "print ('antes b:',b)\n",
        "b[0] =1000\n",
        "print('depois a:', a) #não é feita uma copia como ocorre em list, é uma referencia\n",
        "print('depois b:', b)"
      ],
      "execution_count": 0,
      "outputs": [
        {
          "output_type": "stream",
          "text": [
            "antes a: [20 30 10 40 50]\n",
            "antes b: [20 30 10 40 50]\n",
            "depois a: [1000   30   10   40   50]\n",
            "depois b: [1000   30   10   40   50]\n"
          ],
          "name": "stdout"
        }
      ]
    },
    {
      "cell_type": "markdown",
      "metadata": {
        "id": "WVXNko7Glo3s",
        "colab_type": "text"
      },
      "source": [
        "# **Aplicação matriz NP**"
      ]
    },
    {
      "cell_type": "code",
      "metadata": {
        "id": "Dnoebi2olmJh",
        "colab_type": "code",
        "outputId": "ad7498da-6810-4665-f94d-840c00e2a1ff",
        "colab": {
          "base_uri": "https://localhost:8080/",
          "height": 68
        }
      },
      "source": [
        "joao_pts = [20,30,40,15]\n",
        "pedro_pts =[100,32,48,23]\n",
        "maria_pts = [15,90,45,54]\n",
        "pontos = np.array([joao_pts,pedro_pts,maria_pts])\n",
        "pontos"
      ],
      "execution_count": 0,
      "outputs": [
        {
          "output_type": "execute_result",
          "data": {
            "text/plain": [
              "array([[ 20,  30,  40,  15],\n",
              "       [100,  32,  48,  23],\n",
              "       [ 15,  90,  45,  54]])"
            ]
          },
          "metadata": {
            "tags": []
          },
          "execution_count": 60
        }
      ]
    },
    {
      "cell_type": "markdown",
      "metadata": {
        "id": "4IYsX8a2hLDM",
        "colab_type": "text"
      },
      "source": [
        "#**Uso de alguns métodos de NP com matrizes**\n"
      ]
    },
    {
      "cell_type": "code",
      "metadata": {
        "id": "w6bf3ibjftAI",
        "colab_type": "code",
        "outputId": "934920aa-c4f9-43d2-92d1-463537534967",
        "colab": {
          "base_uri": "https://localhost:8080/",
          "height": 34
        }
      },
      "source": [
        "my_data= np.arange(0,20) #valores uniformementes espaçados dentro do intervalo dado (20 n conta)\n",
        "print(my_data)"
      ],
      "execution_count": 0,
      "outputs": [
        {
          "output_type": "stream",
          "text": [
            "[ 0  1  2  3  4  5  6  7  8  9 10 11 12 13 14 15 16 17 18 19]\n"
          ],
          "name": "stdout"
        }
      ]
    },
    {
      "cell_type": "code",
      "metadata": {
        "id": "7t__eOY4gJ3l",
        "colab_type": "code",
        "outputId": "e74bdc19-6ce3-4931-f956-9bdab3a978f1",
        "colab": {
          "base_uri": "https://localhost:8080/",
          "height": 102
        }
      },
      "source": [
        "mat1= np.reshape(my_data,(5,4)) # o segundo parametro é uma tupla que representa a dimensão da matriz\n",
        "print(mat1)"
      ],
      "execution_count": 0,
      "outputs": [
        {
          "output_type": "stream",
          "text": [
            "[[ 0  1  2  3]\n",
            " [ 4  5  6  7]\n",
            " [ 8  9 10 11]\n",
            " [12 13 14 15]\n",
            " [16 17 18 19]]\n"
          ],
          "name": "stdout"
        }
      ]
    },
    {
      "cell_type": "code",
      "metadata": {
        "id": "bnEOTVQ6gnO9",
        "colab_type": "code",
        "outputId": "99259232-e29e-4a75-e6fe-c67e8eb53216",
        "colab": {
          "base_uri": "https://localhost:8080/",
          "height": 34
        }
      },
      "source": [
        "pontos.item(5) #acessa o elemento da posição desejada"
      ],
      "execution_count": 0,
      "outputs": [
        {
          "output_type": "execute_result",
          "data": {
            "text/plain": [
              "32"
            ]
          },
          "metadata": {
            "tags": []
          },
          "execution_count": 63
        }
      ]
    },
    {
      "cell_type": "markdown",
      "metadata": {
        "id": "CKBDJScgo4x0",
        "colab_type": "text"
      },
      "source": [
        "#**Carregando dados do arquivo**"
      ]
    },
    {
      "cell_type": "code",
      "metadata": {
        "id": "2rcEi50Plguw",
        "colab_type": "code",
        "outputId": "d4166943-7e70-4205-8bff-cd2b733632c5",
        "colab": {
          "base_uri": "https://localhost:8080/",
          "height": 68
        }
      },
      "source": [
        "val1,val2,val3 = np.loadtxt('dados.txt', skiprows=1, unpack= True) # unpack garante que os valores vão ser colocados nas variaveis\n",
        "print(val1) # primeira coluna\n",
        "print(val2) #segunda coluna\n",
        "print(val3) #terceira coluna"
      ],
      "execution_count": 0,
      "outputs": [
        {
          "output_type": "stream",
          "text": [
            "[0.1212 0.104  0.5661 0.762 ]\n",
            "[0.842    0.5422   0.932    0.847361]\n",
            "[0.3672  0.34551 0.2344  0.1538 ]\n"
          ],
          "name": "stdout"
        }
      ]
    },
    {
      "cell_type": "code",
      "metadata": {
        "id": "_Pvg9T-Va2KY",
        "colab_type": "code",
        "colab": {}
      },
      "source": [
        ""
      ],
      "execution_count": 0,
      "outputs": []
    },
    {
      "cell_type": "code",
      "metadata": {
        "id": "h1QWDmemm_tH",
        "colab_type": "code",
        "outputId": "5d405abf-c0ee-4b28-f4f3-0d908328cd95",
        "colab": {
          "base_uri": "https://localhost:8080/",
          "height": 68
        }
      },
      "source": [
        "meu_array = np.genfromtxt('dados2.txt', skip_header=1, unpack= True, filling_values =-999) \n",
        "# filling values preenche valores que faltam\n",
        "print(meu_array)"
      ],
      "execution_count": 0,
      "outputs": [
        {
          "output_type": "stream",
          "text": [
            "[[ 1.21200e-01 -9.99000e+02  5.66100e-01  7.62000e-01]\n",
            " [ 8.42000e-01  5.42200e-01  9.32000e-01  8.47361e-01]\n",
            " [ 3.67200e-01  3.45510e-01 -9.99000e+02  1.53800e-01]]\n"
          ],
          "name": "stdout"
        }
      ]
    },
    {
      "cell_type": "markdown",
      "metadata": {
        "id": "Aamaz42ZpGKT",
        "colab_type": "text"
      },
      "source": [
        "#**Concatenando Arrays**"
      ]
    },
    {
      "cell_type": "code",
      "metadata": {
        "id": "PYubQgSJo03X",
        "colab_type": "code",
        "outputId": "bc5e16a3-8b06-4017-bd55-e93a56b15d0f",
        "colab": {
          "base_uri": "https://localhost:8080/",
          "height": 102
        }
      },
      "source": [
        "meuarray1 = np.array([[1,2],[3,4]])\n",
        "meuarray2 = np.array([[5,6]])\n",
        "print('concatenado pelo eixo 0:',np.concatenate((meuarray1,meuarray2), axis=0)) #pelo eixo 0 ficam 3 duplas\n",
        " #faz a transposta da segunda para que ela tenha o mesmo número de colunas que o de linhas da primeira\n",
        "print('concatenado pelo eixo 1:',np.concatenate((meuarray1,meuarray2.T), axis=1)) #só é possivel fazer pelo eixo 1 nesse caso transpondo a segunda matriz"
      ],
      "execution_count": 0,
      "outputs": [
        {
          "output_type": "stream",
          "text": [
            "concatenado pelo eixo 0: [[1 2]\n",
            " [3 4]\n",
            " [5 6]]\n",
            "concatenado pelo eixo 1: [[1 2 5]\n",
            " [3 4 6]]\n"
          ],
          "name": "stdout"
        }
      ]
    },
    {
      "cell_type": "markdown",
      "metadata": {
        "id": "aMoGg_GFsaV8",
        "colab_type": "text"
      },
      "source": [
        "#**Embaralhando Arrays**"
      ]
    },
    {
      "cell_type": "code",
      "metadata": {
        "id": "h97LnFE-rwD_",
        "colab_type": "code",
        "outputId": "a60fd9dc-2d3b-4397-f10c-8b7cefb6575d",
        "colab": {
          "base_uri": "https://localhost:8080/",
          "height": 51
        }
      },
      "source": [
        "meuarray3 = np.arange(10)\n",
        "print(meuarray3)\n",
        "np.random.shuffle(meuarray3)\n",
        "print('Depois: ',meuarray3)"
      ],
      "execution_count": 0,
      "outputs": [
        {
          "output_type": "stream",
          "text": [
            "[0 1 2 3 4 5 6 7 8 9]\n",
            "Depois:  [3 1 9 8 2 7 5 4 0 6]\n"
          ],
          "name": "stdout"
        }
      ]
    },
    {
      "cell_type": "markdown",
      "metadata": {
        "id": "0QKJV8EzbQfb",
        "colab_type": "text"
      },
      "source": [
        "#**Números complexos com NumPy**\n"
      ]
    },
    {
      "cell_type": "code",
      "metadata": {
        "id": "7gKK9w9MbMde",
        "colab_type": "code",
        "outputId": "527d437f-6706-4fa3-ba54-cbfeec19760e",
        "colab": {
          "base_uri": "https://localhost:8080/",
          "height": 51
        }
      },
      "source": [
        "ex= np.array([1,10 + 2j, 20+5j])\n",
        "print(ex)\n",
        "print(ex[1]+ex[2])"
      ],
      "execution_count": 0,
      "outputs": [
        {
          "output_type": "stream",
          "text": [
            "[ 1.+0.j 10.+2.j 20.+5.j]\n",
            "(30+7j)\n"
          ],
          "name": "stdout"
        }
      ]
    },
    {
      "cell_type": "markdown",
      "metadata": {
        "id": "IpYWRYvJdXiF",
        "colab_type": "text"
      },
      "source": [
        "# **Gerando Array com linspace**\n",
        "\n"
      ]
    },
    {
      "cell_type": "code",
      "metadata": {
        "id": "eCDL6d6JcrMs",
        "colab_type": "code",
        "outputId": "e318ac84-c785-4e85-a1df-1ffd2f17c39e",
        "colab": {
          "base_uri": "https://localhost:8080/",
          "height": 68
        }
      },
      "source": [
        "np.linspace(2.0,3.0, 15) #gera 15 numeros de 2 a 3 uniformemente espaçados, caso o ultimo paramêtro não seja definido, ele gera 50 números por default"
      ],
      "execution_count": 0,
      "outputs": [
        {
          "output_type": "execute_result",
          "data": {
            "text/plain": [
              "array([2.        , 2.07142857, 2.14285714, 2.21428571, 2.28571429,\n",
              "       2.35714286, 2.42857143, 2.5       , 2.57142857, 2.64285714,\n",
              "       2.71428571, 2.78571429, 2.85714286, 2.92857143, 3.        ])"
            ]
          },
          "metadata": {
            "tags": []
          },
          "execution_count": 70
        }
      ]
    },
    {
      "cell_type": "markdown",
      "metadata": {
        "id": "-0XFvpEIdeEz",
        "colab_type": "text"
      },
      "source": [
        "# **Encontrando elementos únicos de um array**\n"
      ]
    },
    {
      "cell_type": "code",
      "metadata": {
        "id": "_YYdChlKddfv",
        "colab_type": "code",
        "outputId": "0f041519-ba72-4615-b11d-913e187aa7e1",
        "colab": {
          "base_uri": "https://localhost:8080/",
          "height": 34
        }
      },
      "source": [
        "meuArray4 = np.array([[1,2],[2,3],[3,3],[4,4]])\n",
        "np.unique(meuArray4)"
      ],
      "execution_count": 0,
      "outputs": [
        {
          "output_type": "execute_result",
          "data": {
            "text/plain": [
              "array([1, 2, 3, 4])"
            ]
          },
          "metadata": {
            "tags": []
          },
          "execution_count": 72
        }
      ]
    },
    {
      "cell_type": "markdown",
      "metadata": {
        "id": "4g7oQotYe8Rj",
        "colab_type": "text"
      },
      "source": [
        "#**Lendo arquivos CSV com NumPy**\n",
        "\n",
        "\n"
      ]
    },
    {
      "cell_type": "code",
      "metadata": {
        "id": "4P7rwbI5fE84",
        "colab_type": "code",
        "outputId": "b9dc0fe0-fe98-42a2-8664-a8109977cd76",
        "colab": {
          "base_uri": "https://localhost:8080/",
          "height": 85
        }
      },
      "source": [
        "valores = np.genfromtxt(\"arquivo.csv\", delimiter= \",\", skip_header=1) #usar delimitador que é presente no arquivo\n",
        "print(valores)"
      ],
      "execution_count": 0,
      "outputs": [
        {
          "output_type": "stream",
          "text": [
            "[[10. 20. 30.]\n",
            " [40. 50. 60.]\n",
            " [70. 80. 90.]\n",
            " [34. 54. 23.]]\n"
          ],
          "name": "stdout"
        }
      ]
    }
  ]
}